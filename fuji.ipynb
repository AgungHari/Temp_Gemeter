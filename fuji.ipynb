{
 "cells": [
  {
   "cell_type": "markdown",
   "metadata": {},
   "source": [
    "# **Ini Untuk EL SETUP**\n",
    "run cellnya aja"
   ]
  },
  {
   "cell_type": "code",
   "execution_count": 1,
   "metadata": {},
   "outputs": [],
   "source": [
    "import numpy as np\n",
    "import os\n",
    "import cv2 as cv\n",
    "import mediapipe as mp\n",
    "import math"
   ]
  },
  {
   "cell_type": "markdown",
   "metadata": {},
   "source": [
    "# *Sesuain sama kelas yang mau dipake misalnya kursi roda wajib 5, soalnya kontrolnya 5 doang*"
   ]
  },
  {
   "cell_type": "code",
   "execution_count": 2,
   "metadata": {},
   "outputs": [],
   "source": [
    "# DATA_PATH = os.path.join('My_Datasets')\n",
    "DATA_PATH = os.path.join('El_Agung') #ganti ini bos, ini nama foldernya\n",
    "\n",
    "actions = np.array([\"Kanan\", \"Maju\", \"Stop\", \"Mundur\", \"Kiri\" #kalau kursi roda ini udah fix, kalau yang lain sesuain\n",
    "                    ])\n",
    "no_sequences = 30\n",
    "sequence_length = 30 #ini eksperiment aja kalau modellu jelek pake setting ini bisa ganti, boleh lebih banyak inget tergantung epoch dkk juga\n"
   ]
  },
  {
   "cell_type": "code",
   "execution_count": 3,
   "metadata": {},
   "outputs": [],
   "source": [
    "def create_folder(actions, data_path, no_sequences):\n",
    "    for action in actions: \n",
    "        for sequence in range(no_sequences):\n",
    "            try: \n",
    "                os.makedirs(os.path.join(data_path, action, str(sequence)))\n",
    "            except:\n",
    "                pass\n"
   ]
  },
  {
   "cell_type": "markdown",
   "metadata": {},
   "source": [
    "# **Collect Keypoint Values for Training and Testing**"
   ]
  },
  {
   "cell_type": "code",
   "execution_count": 4,
   "metadata": {},
   "outputs": [],
   "source": [
    "#define mediapipe face mesh and drawing utils\n",
    "mp_face_mesh = mp.solutions.face_mesh\n",
    "mp_drawing = mp.solutions.drawing_utils\n",
    "mp_drawing_styles = mp.solutions.drawing_styles"
   ]
  },
  {
   "cell_type": "code",
   "execution_count": 5,
   "metadata": {},
   "outputs": [],
   "source": [
    "#detect using mediapipe model\n",
    "def media_pipe_detection(image, model):\n",
    "    image = cv.cvtColor(image, cv.COLOR_BGR2RGB) \n",
    "    image.flags.writeable = False\n",
    "    results = model.process(image)\n",
    "    image.flags.writeable = True\n",
    "    image = cv.cvtColor(image, cv.COLOR_RGB2BGR) \n",
    "    return image, results\n",
    "\n",
    "#draw face landmarks\n",
    "def draw_land_marks(image, results):\n",
    "    if results.multi_face_landmarks:\n",
    "        for face_landmarks in results.multi_face_landmarks:\n",
    "            mp_drawing.draw_landmarks(\n",
    "                image=image,\n",
    "                landmark_list=face_landmarks,\n",
    "                connections=mp_face_mesh.FACEMESH_TESSELATION,\n",
    "                landmark_drawing_spec=mp_drawing.DrawingSpec(color=(121, 22, 76), thickness=1, circle_radius=1),\n",
    "                connection_drawing_spec=mp_drawing.DrawingSpec(color=(250, 44, 250), thickness=1, circle_radius=1))\n",
    "\n",
    "#extract keypoints from face mesh\n",
    "def extract_keypoints(results):\n",
    "    if results.multi_face_landmarks:\n",
    "        keypoints = np.array([[res.x, res.y, res.z] for res in results.multi_face_landmarks[0].landmark]).flatten()\n",
    "    else:\n",
    "        keypoints = np.zeros(468*3)\n",
    "    return keypoints"
   ]
  },
  {
   "cell_type": "code",
   "execution_count": 6,
   "metadata": {},
   "outputs": [],
   "source": [
    "#capture video and collect data\n",
    "cap = cv.VideoCapture(0)\n",
    "with mp_face_mesh.FaceMesh(static_image_mode=False, max_num_faces=1, min_detection_confidence=0.5, min_tracking_confidence=0.5) as face_mesh:\n",
    "    for action in actions:\n",
    "        for sequence in range(no_sequences):\n",
    "            for frame_num in range(sequence_length):\n",
    "                ret, frame = cap.read()\n",
    "\n",
    "                # Make detections\n",
    "                image, results = media_pipe_detection(frame, face_mesh)\n",
    "                \n",
    "                # Show to screen\n",
    "                if frame_num == 0: \n",
    "                    cv.putText(image, 'STARTING COLLECTION', (120,200), \n",
    "                               cv.FONT_HERSHEY_SIMPLEX, 1, (0,255, 0), 4, cv.LINE_AA)\n",
    "                    cv.putText(image, 'Collecting frames for {} Video Number {}'.format(action, sequence), (15,12), \n",
    "                               cv.FONT_HERSHEY_SIMPLEX, 0.5, (0, 0, 255), 2, cv.LINE_AA)\n",
    "                    cv.imshow('OpenCV Feed', image)\n",
    "                    cv.waitKey(5000)\n",
    "                else:\n",
    "                    cv.imshow('OpenCV Feed', image)\n",
    "\n",
    "                # Export keypoints\n",
    "                keypoints = extract_keypoints(results)\n",
    "                npy_path = os.path.join(DATA_PATH, action, str(sequence), str(frame_num))\n",
    "                np.save(npy_path, keypoints)\n",
    "\n",
    "                if cv.waitKey(10) & 0xFF == ord('q'):\n",
    "                    break\n",
    "\n",
    "    cap.release()\n",
    "    cv.destroyAllWindows()"
   ]
  },
  {
   "cell_type": "markdown",
   "metadata": {},
   "source": [
    "# **Normalize Datasets**"
   ]
  },
  {
   "cell_type": "code",
   "execution_count": 7,
   "metadata": {},
   "outputs": [],
   "source": [
    "coordinates = []\n",
    "\n",
    "for action in actions:\n",
    "     for sequence in np.array(os.listdir(os.path.join(DATA_PATH, action))).astype(int):\n",
    "        for frame_num in range(sequence_length):\n",
    "            res = np.load(os.path.join(DATA_PATH, action, str(sequence), \"{}.npy\".format(frame_num)))\n",
    "            for coor in res:\n",
    "                coordinates.append(coor)\n"
   ]
  },
  {
   "cell_type": "code",
   "execution_count": 8,
   "metadata": {},
   "outputs": [],
   "source": [
    "# Normalize coordinates\n",
    "def normalization(coordinates):\n",
    "    print(\"Koordinat awal:\")\n",
    "    print(\"Max: \" + str(max(coordinates)))\n",
    "    print(\"Min: \" + str(min(coordinates)))\n",
    "\n",
    "    coordinates = np.array(coordinates)\n",
    "    coordinates -= np.mean(coordinates, axis=0)\n",
    "    coordinates /= np.std(coordinates, axis=0)\n",
    "\n",
    "    print(\"\\nKoordinat normalisasi:\")\n",
    "    print(\"Max: \" + str(max(coordinates)))\n",
    "    print(\"Min: \" + str(min(coordinates)))\n",
    "    return coordinates\n",
    "\n",
    "def save_normalization(paths, actions, no_sequences, sequence_length, coor_norm):\n",
    "    total_landmarks = 468 * 3\n",
    "    temp_index = 0\n",
    "\n",
    "    for action in actions:\n",
    "        for sequence in range(no_sequences):\n",
    "            for frame_num in range(sequence_length):\n",
    "                saved_coor_norm = coor_norm[temp_index:temp_index+total_landmarks]\n",
    "\n",
    "                norm_npy_path = os.path.join(paths, action, str(sequence), str(frame_num) + \"-norm\")\n",
    "                np.save(norm_npy_path, saved_coor_norm)\n",
    "\n",
    "                temp_index += total_landmarks\n"
   ]
  },
  {
   "cell_type": "code",
   "execution_count": 9,
   "metadata": {},
   "outputs": [],
   "source": [
    "normalized_coor = normalization(coordinates)\n",
    "save_normalization(DATA_PATH, actions, no_sequences, sequence_length, normalized_coor)"
   ]
  }
 ],
 "metadata": {
  "kernelspec": {
   "display_name": "Python 3",
   "language": "python",
   "name": "python3"
  },
  "language_info": {
   "name": "python",
   "version": "3.9.12"
  }
 },
 "nbformat": 4,
 "nbformat_minor": 2
}
